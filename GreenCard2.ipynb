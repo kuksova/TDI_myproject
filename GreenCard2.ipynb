{
 "cells": [
  {
   "cell_type": "markdown",
   "metadata": {},
   "source": [
    "## Helping people to immigrate"
   ]
  },
  {
   "cell_type": "markdown",
   "metadata": {},
   "source": [
    "### Purpose\n",
    "   I would like to make a model that predicts the processing time of the Green card application based on self-petition (EB-1A and NIW categories) and which features influence this decision."
   ]
  },
  {
   "cell_type": "markdown",
   "metadata": {},
   "source": [
    "The open source data from trackitt.com Green card tracker and Victoria Chen's list of approved cases (wegreened.com)."
   ]
  },
  {
   "cell_type": "code",
   "execution_count": 123,
   "metadata": {},
   "outputs": [
    {
     "name": "stdout",
     "output_type": "stream",
     "text": [
      "<class 'pandas.core.frame.DataFrame'>\n",
      "RangeIndex: 34550 entries, 0 to 34549\n",
      "Data columns (total 29 columns):\n",
      "Unnamed: 0               34550 non-null int64\n",
      "Watch                    0 non-null float64\n",
      "Username                 34549 non-null object\n",
      "Comments                 34550 non-null object\n",
      "More                     0 non-null float64\n",
      "Nationality              34537 non-null object\n",
      "Applicant Type           27828 non-null object\n",
      "Service Center           34548 non-null object\n",
      "Category                 34545 non-null object\n",
      "Priority Date            26087 non-null object\n",
      "Application Filed        32304 non-null object\n",
      "USCIS Received Date      34165 non-null object\n",
      "USCIS Notice Date        18653 non-null object\n",
      "USCIS Receipt Number     7481 non-null object\n",
      "I-140/485 Filing         34548 non-null object\n",
      "Processing Type          34548 non-null object\n",
      "RFE Received?            24690 non-null object\n",
      "RFE Received Date        4669 non-null object\n",
      "Reason for RFE           4116 non-null object\n",
      "RFE Replied Date         5581 non-null object\n",
      "Application Status       34548 non-null object\n",
      "Approval/Denial Date     30098 non-null datetime64[ns]\n",
      "Total Processing Time    27859 non-null object\n",
      "Most Recent LUD          2695 non-null object\n",
      "Days Elapsed             4261 non-null object\n",
      "Notes                    12351 non-null object\n",
      "State                    34550 non-null object\n",
      "Case Added to Tracker    34550 non-null object\n",
      "Last Updated             34550 non-null object\n",
      "dtypes: datetime64[ns](1), float64(2), int64(1), object(25)\n",
      "memory usage: 7.6+ MB\n"
     ]
    },
    {
     "name": "stderr",
     "output_type": "stream",
     "text": [
      "D:\\Soft\\Anaconda3\\lib\\site-packages\\IPython\\core\\interactiveshell.py:3020: DtypeWarning: Columns (6,13,17,18,23,24) have mixed types. Specify dtype option on import or set low_memory=False.\n",
      "  interactivity=interactivity, compiler=compiler, result=result)\n"
     ]
    }
   ],
   "source": [
    "import pandas as pd\n",
    "import numpy as np\n",
    "\n",
    "a = pd.read_csv('Trackitt_data_table_3.csv') \n",
    "df.info()\n",
    "#df.head(7)   "
   ]
  },
  {
   "cell_type": "markdown",
   "metadata": {},
   "source": [
    "### Conclusion"
   ]
  },
  {
   "cell_type": "markdown",
   "metadata": {},
   "source": [
    "Data has 29 columns and 34550 rows. This data have a lot of NaN and None values. I should to process data before working with them when it necessary."
   ]
  },
  {
   "cell_type": "code",
   "execution_count": 124,
   "metadata": {},
   "outputs": [
    {
     "data": {
      "text/html": [
       "<div>\n",
       "<style scoped>\n",
       "    .dataframe tbody tr th:only-of-type {\n",
       "        vertical-align: middle;\n",
       "    }\n",
       "\n",
       "    .dataframe tbody tr th {\n",
       "        vertical-align: top;\n",
       "    }\n",
       "\n",
       "    .dataframe thead th {\n",
       "        text-align: right;\n",
       "    }\n",
       "</style>\n",
       "<table border=\"1\" class=\"dataframe\">\n",
       "  <thead>\n",
       "    <tr style=\"text-align: right;\">\n",
       "      <th></th>\n",
       "      <th>Unnamed: 0</th>\n",
       "      <th>Watch</th>\n",
       "      <th>Username</th>\n",
       "      <th>Comments</th>\n",
       "      <th>More</th>\n",
       "      <th>Nationality</th>\n",
       "      <th>Applicant Type</th>\n",
       "      <th>Service Center</th>\n",
       "      <th>Category</th>\n",
       "      <th>Priority Date</th>\n",
       "      <th>...</th>\n",
       "      <th>RFE Replied Date</th>\n",
       "      <th>Application Status</th>\n",
       "      <th>Approval/Denial Date</th>\n",
       "      <th>Total Processing Time</th>\n",
       "      <th>Most Recent LUD</th>\n",
       "      <th>Days Elapsed</th>\n",
       "      <th>Notes</th>\n",
       "      <th>State</th>\n",
       "      <th>Case Added to Tracker</th>\n",
       "      <th>Last Updated</th>\n",
       "    </tr>\n",
       "  </thead>\n",
       "  <tbody>\n",
       "    <tr>\n",
       "      <th>23</th>\n",
       "      <td>23</td>\n",
       "      <td>NaN</td>\n",
       "      <td>kkkpast</td>\n",
       "      <td>0 comments</td>\n",
       "      <td>NaN</td>\n",
       "      <td>South Korea</td>\n",
       "      <td>primary</td>\n",
       "      <td>Nebraska</td>\n",
       "      <td>EB2-NIW</td>\n",
       "      <td>05/28/2019</td>\n",
       "      <td>...</td>\n",
       "      <td>NaN</td>\n",
       "      <td>approved</td>\n",
       "      <td>2019-12-17</td>\n",
       "      <td>203</td>\n",
       "      <td>NaN</td>\n",
       "      <td>NaN</td>\n",
       "      <td>NaN</td>\n",
       "      <td>Active</td>\n",
       "      <td>18 Dec 2019</td>\n",
       "      <td>06 Jan 2020</td>\n",
       "    </tr>\n",
       "    <tr>\n",
       "      <th>58</th>\n",
       "      <td>8</td>\n",
       "      <td>NaN</td>\n",
       "      <td>amirtofighiz</td>\n",
       "      <td>0 comments</td>\n",
       "      <td>NaN</td>\n",
       "      <td>Iran</td>\n",
       "      <td>primary</td>\n",
       "      <td>Texas</td>\n",
       "      <td>EB2-NIW</td>\n",
       "      <td>01/28/2019</td>\n",
       "      <td>...</td>\n",
       "      <td>NaN</td>\n",
       "      <td>approved</td>\n",
       "      <td>2019-12-27</td>\n",
       "      <td>333</td>\n",
       "      <td>12/27/2019</td>\n",
       "      <td>NaN</td>\n",
       "      <td>NaN</td>\n",
       "      <td>Active</td>\n",
       "      <td>29 Dec 2019</td>\n",
       "      <td>29 Dec 2019</td>\n",
       "    </tr>\n",
       "    <tr>\n",
       "      <th>60</th>\n",
       "      <td>10</td>\n",
       "      <td>NaN</td>\n",
       "      <td>mohuaa</td>\n",
       "      <td>0 comments</td>\n",
       "      <td>NaN</td>\n",
       "      <td>Bangladesh</td>\n",
       "      <td>primary</td>\n",
       "      <td>Texas</td>\n",
       "      <td>EB2-NIW</td>\n",
       "      <td>12/03/2018</td>\n",
       "      <td>...</td>\n",
       "      <td>NaN</td>\n",
       "      <td>approved</td>\n",
       "      <td>2019-06-14</td>\n",
       "      <td>196</td>\n",
       "      <td>NaN</td>\n",
       "      <td>NaN</td>\n",
       "      <td>Submitted with 12 first a...more</td>\n",
       "      <td>Active</td>\n",
       "      <td>03 Jan 2019</td>\n",
       "      <td>28 Dec 2019</td>\n",
       "    </tr>\n",
       "    <tr>\n",
       "      <th>61</th>\n",
       "      <td>11</td>\n",
       "      <td>NaN</td>\n",
       "      <td>proverbialEagl</td>\n",
       "      <td>1 comment</td>\n",
       "      <td>NaN</td>\n",
       "      <td>Bangladesh</td>\n",
       "      <td>primary</td>\n",
       "      <td>Nebraska</td>\n",
       "      <td>EB2-NIW</td>\n",
       "      <td>05/22/2019</td>\n",
       "      <td>...</td>\n",
       "      <td>NaN</td>\n",
       "      <td>approved</td>\n",
       "      <td>2019-12-06</td>\n",
       "      <td>198</td>\n",
       "      <td>NaN</td>\n",
       "      <td>NaN</td>\n",
       "      <td>NaN</td>\n",
       "      <td>Active</td>\n",
       "      <td>11 Sep 2019</td>\n",
       "      <td>27 Dec 2019</td>\n",
       "    </tr>\n",
       "    <tr>\n",
       "      <th>70</th>\n",
       "      <td>20</td>\n",
       "      <td>NaN</td>\n",
       "      <td>sharita</td>\n",
       "      <td>0 comments</td>\n",
       "      <td>NaN</td>\n",
       "      <td>Australia</td>\n",
       "      <td>primary</td>\n",
       "      <td>Texas</td>\n",
       "      <td>EB2-NIW</td>\n",
       "      <td>01/15/2019</td>\n",
       "      <td>...</td>\n",
       "      <td>NaN</td>\n",
       "      <td>approved</td>\n",
       "      <td>2019-08-19</td>\n",
       "      <td>221</td>\n",
       "      <td>NaN</td>\n",
       "      <td>NaN</td>\n",
       "      <td>NaN</td>\n",
       "      <td>Active</td>\n",
       "      <td>24 Dec 2019</td>\n",
       "      <td>24 Dec 2019</td>\n",
       "    </tr>\n",
       "    <tr>\n",
       "      <th>80</th>\n",
       "      <td>30</td>\n",
       "      <td>NaN</td>\n",
       "      <td>nimar64</td>\n",
       "      <td>0 comments</td>\n",
       "      <td>NaN</td>\n",
       "      <td>Iran</td>\n",
       "      <td>primary</td>\n",
       "      <td>Texas</td>\n",
       "      <td>EB2-NIW</td>\n",
       "      <td>08/03/2018</td>\n",
       "      <td>...</td>\n",
       "      <td>NaN</td>\n",
       "      <td>approved</td>\n",
       "      <td>2019-12-17</td>\n",
       "      <td>501</td>\n",
       "      <td>NaN</td>\n",
       "      <td>NaN</td>\n",
       "      <td>Semi Concurrent. I-485 we...more</td>\n",
       "      <td>Active</td>\n",
       "      <td>04 Jun 2019</td>\n",
       "      <td>20 Dec 2019</td>\n",
       "    </tr>\n",
       "    <tr>\n",
       "      <th>96</th>\n",
       "      <td>46</td>\n",
       "      <td>NaN</td>\n",
       "      <td>amin2019</td>\n",
       "      <td>2 comments</td>\n",
       "      <td>NaN</td>\n",
       "      <td>Iran</td>\n",
       "      <td>primary</td>\n",
       "      <td>Nebraska</td>\n",
       "      <td>EB2-NIW</td>\n",
       "      <td>05/10/2019</td>\n",
       "      <td>...</td>\n",
       "      <td>NaN</td>\n",
       "      <td>approved</td>\n",
       "      <td>2019-12-17</td>\n",
       "      <td>225</td>\n",
       "      <td>NaN</td>\n",
       "      <td>NaN</td>\n",
       "      <td>NaN</td>\n",
       "      <td>Active</td>\n",
       "      <td>19 Nov 2019</td>\n",
       "      <td>18 Dec 2019</td>\n",
       "    </tr>\n",
       "    <tr>\n",
       "      <th>108</th>\n",
       "      <td>8</td>\n",
       "      <td>NaN</td>\n",
       "      <td>Bahsan</td>\n",
       "      <td>3 comments</td>\n",
       "      <td>NaN</td>\n",
       "      <td>Bangladesh</td>\n",
       "      <td>primary</td>\n",
       "      <td>Nebraska</td>\n",
       "      <td>EB2-NIW</td>\n",
       "      <td>04/05/2019</td>\n",
       "      <td>...</td>\n",
       "      <td>NaN</td>\n",
       "      <td>approved</td>\n",
       "      <td>2019-12-12</td>\n",
       "      <td>254</td>\n",
       "      <td>NaN</td>\n",
       "      <td>NaN</td>\n",
       "      <td>MS in Civil Engg. Working...more</td>\n",
       "      <td>Active</td>\n",
       "      <td>14 Apr 2019</td>\n",
       "      <td>16 Dec 2019</td>\n",
       "    </tr>\n",
       "  </tbody>\n",
       "</table>\n",
       "<p>8 rows × 29 columns</p>\n",
       "</div>"
      ],
      "text/plain": [
       "     Unnamed: 0  Watch        Username    Comments  More  Nationality  \\\n",
       "23           23    NaN         kkkpast  0 comments   NaN  South Korea   \n",
       "58            8    NaN    amirtofighiz  0 comments   NaN         Iran   \n",
       "60           10    NaN          mohuaa  0 comments   NaN   Bangladesh   \n",
       "61           11    NaN  proverbialEagl   1 comment   NaN   Bangladesh   \n",
       "70           20    NaN         sharita  0 comments   NaN    Australia   \n",
       "80           30    NaN         nimar64  0 comments   NaN         Iran   \n",
       "96           46    NaN        amin2019  2 comments   NaN         Iran   \n",
       "108           8    NaN          Bahsan  3 comments   NaN   Bangladesh   \n",
       "\n",
       "    Applicant Type Service Center Category Priority Date     ...       \\\n",
       "23         primary       Nebraska  EB2-NIW    05/28/2019     ...        \n",
       "58         primary          Texas  EB2-NIW    01/28/2019     ...        \n",
       "60         primary          Texas  EB2-NIW    12/03/2018     ...        \n",
       "61         primary       Nebraska  EB2-NIW    05/22/2019     ...        \n",
       "70         primary          Texas  EB2-NIW    01/15/2019     ...        \n",
       "80         primary          Texas  EB2-NIW    08/03/2018     ...        \n",
       "96         primary       Nebraska  EB2-NIW    05/10/2019     ...        \n",
       "108        primary       Nebraska  EB2-NIW    04/05/2019     ...        \n",
       "\n",
       "    RFE Replied Date Application Status Approval/Denial Date  \\\n",
       "23               NaN           approved           2019-12-17   \n",
       "58               NaN           approved           2019-12-27   \n",
       "60               NaN           approved           2019-06-14   \n",
       "61               NaN           approved           2019-12-06   \n",
       "70               NaN           approved           2019-08-19   \n",
       "80               NaN           approved           2019-12-17   \n",
       "96               NaN           approved           2019-12-17   \n",
       "108              NaN           approved           2019-12-12   \n",
       "\n",
       "    Total Processing Time Most Recent LUD Days Elapsed  \\\n",
       "23                    203             NaN          NaN   \n",
       "58                    333      12/27/2019          NaN   \n",
       "60                    196             NaN          NaN   \n",
       "61                    198             NaN          NaN   \n",
       "70                    221             NaN          NaN   \n",
       "80                    501             NaN          NaN   \n",
       "96                    225             NaN          NaN   \n",
       "108                   254             NaN          NaN   \n",
       "\n",
       "                                Notes   State Case Added to Tracker  \\\n",
       "23                                NaN  Active           18 Dec 2019   \n",
       "58                                NaN  Active           29 Dec 2019   \n",
       "60   Submitted with 12 first a...more  Active           03 Jan 2019   \n",
       "61                                NaN  Active           11 Sep 2019   \n",
       "70                                NaN  Active           24 Dec 2019   \n",
       "80   Semi Concurrent. I-485 we...more  Active           04 Jun 2019   \n",
       "96                                NaN  Active           19 Nov 2019   \n",
       "108  MS in Civil Engg. Working...more  Active           14 Apr 2019   \n",
       "\n",
       "    Last Updated  \n",
       "23   06 Jan 2020  \n",
       "58   29 Dec 2019  \n",
       "60   28 Dec 2019  \n",
       "61   27 Dec 2019  \n",
       "70   24 Dec 2019  \n",
       "80   20 Dec 2019  \n",
       "96   18 Dec 2019  \n",
       "108  16 Dec 2019  \n",
       "\n",
       "[8 rows x 29 columns]"
      ]
     },
     "execution_count": 124,
     "metadata": {},
     "output_type": "execute_result"
    }
   ],
   "source": [
    "pd.set_option('mode.chained_assignment', None)\n",
    "#df['Category'].value_counts()\n",
    "# Looking for None values\n",
    "df['Application Status'].value_counts()\n",
    "df[df['Approval/Denial Date'].isnull() & df['Application Status'].isnull()].count()\n",
    "# take the part of data\n",
    "df['Approval/Denial Date']= pd.to_datetime(df['Approval/Denial Date']) \n",
    "\n",
    "df_part = df[(df['Approval/Denial Date'].dt.year == 2019) & (df['Application Status'] == 'approved') & (df['Category'] == 'EB2-NIW')]\n",
    "# delete 'days' from the column\n",
    "df_part['Total Processing Time'] = df_part['Total Processing Time'].str.extract('(\\d+)') \n",
    "df_part['Total Processing Time'] = df_part['Total Processing Time'].replace(np.nan, 0)\n",
    "df_part['Total Processing Time'] = df_part['Total Processing Time'].astype(int)\n",
    "df_part.head(8)"
   ]
  },
  {
   "cell_type": "code",
   "execution_count": 125,
   "metadata": {},
   "outputs": [
    {
     "data": {
      "text/plain": [
       "Text(0.5, 0.98, 'The distribution of days for EB2-NIW who approved in 2019')"
      ]
     },
     "execution_count": 125,
     "metadata": {},
     "output_type": "execute_result"
    },
    {
     "data": {
      "image/png": "[encoded data removed]",
      "text/plain": [
       "<Figure size 432x288 with 1 Axes>"
      ]
     },
     "metadata": {
      "needs_background": "light"
     },
     "output_type": "display_data"
    }
   ],
   "source": [
    "#df_part['Total Processing Time'].hist(bins=50)\n",
    "import matplotlib.pyplot as plt\n",
    "df_part1 = df_part[df_part['Total Processing Time']<1000]\n",
    "df_part1['Total Processing Time'].hist(bins = 20)\n",
    "med_processing_time = df_part1['Total Processing Time'].median() # 211\n",
    "plt.suptitle('The distribution of days for EB2-NIW who approved in 2019')"
   ]
  },
  {
   "cell_type": "markdown",
   "metadata": {},
   "source": [
    "### Conclusion"
   ]
  },
  {
   "cell_type": "markdown",
   "metadata": {},
   "source": [
    "I got the distribution of processing time of applications which finished in 2019. The median waiting time is 211 days. There is a tail. My purpose is to understand what the reasons of this tail. I can try to find some factors which impacts to the processing time.  "
   ]
  },
  {
   "cell_type": "code",
   "execution_count": 126,
   "metadata": {},
   "outputs": [
    {
     "data": {
      "text/plain": [
       "<matplotlib.axes._subplots.AxesSubplot at 0x17399a6ff28>"
      ]
     },
     "execution_count": 126,
     "metadata": {},
     "output_type": "execute_result"
    },
    {
     "data": {
      "image/png": "[encoded data removed]",
      "text/plain": [
       "<Figure size 432x288 with 1 Axes>"
      ]
     },
     "metadata": {
      "needs_background": "light"
     },
     "output_type": "display_data"
    }
   ],
   "source": [
    "# month/days\n",
    "df_part['Application Filed']= pd.to_datetime(df_part['Application Filed']) \n",
    "df_part['Application Filed Month'] = df_part['Application Filed'].dt.month\n",
    "df_part['Application Filed Month'].value_counts()\n",
    "\n",
    "df_group = df_part.groupby('Application Filed Month')['Total Processing Time'].median()\n",
    "df_group.plot(kind='bar', title='The distribution of median processing time and month')"
   ]
  },
  {
   "cell_type": "markdown",
   "metadata": {},
   "source": [
    "### Conclusion"
   ]
  },
  {
   "cell_type": "markdown",
   "metadata": {},
   "source": [
    "We can observe here the uniform distribution. The processing time does not depend on the month of application. "
   ]
  },
  {
   "cell_type": "code",
   "execution_count": 127,
   "metadata": {},
   "outputs": [
    {
     "data": {
      "text/plain": [
       "Nebraska                    173\n",
       "Texas                       111\n",
       "Phoenix                       2\n",
       "Dallas                        2\n",
       "National Benefits Center      1\n",
       "California                    1\n",
       "Name: Service Center, dtype: int64"
      ]
     },
     "execution_count": 127,
     "metadata": {},
     "output_type": "execute_result"
    }
   ],
   "source": [
    "# service centers\n",
    "df_part['Service Center'].value_counts()"
   ]
  },
  {
   "cell_type": "markdown",
   "metadata": {},
   "source": [
    "There are servis centers in Nebraska and Texas. What are they other centers? I checked how many people apllied to these cities. I combined Phoenix and Dallas with Texas. National Benefits Center and California are outliers. "
   ]
  },
  {
   "cell_type": "code",
   "execution_count": 122,
   "metadata": {},
   "outputs": [],
   "source": [
    "df_part.loc[df_part['Service Center'] == 'Phoenix', 'Service Center'] = 'Texas'\n",
    "df_part.loc[df_part['Service Center'] == 'Dallas', 'Service Center'] = 'Texas'\n",
    "index_center = df_part[df_part['Service Center'].isin(['National Benefits Center', 'California'])].index\n",
    "df_part.drop(index_center, inplace=True)\n",
    "#df_part['Service Center'].value_counts()"
   ]
  },
  {
   "cell_type": "code",
   "execution_count": 121,
   "metadata": {},
   "outputs": [
    {
     "name": "stdout",
     "output_type": "stream",
     "text": [
      "Service Center\n",
      "Nebraska    205.0\n",
      "Texas       231.5\n",
      "Name: Total Processing Time, dtype: float64\n"
     ]
    },
    {
     "data": {
      "text/plain": [
       "<matplotlib.axes._subplots.AxesSubplot at 0x1739de15160>"
      ]
     },
     "execution_count": 121,
     "metadata": {},
     "output_type": "execute_result"
    },
    {
     "data": {
      "image/png": "[encoded data removed]",
      "text/plain": [
       "<Figure size 432x288 with 1 Axes>"
      ]
     },
     "metadata": {
      "needs_background": "light"
     },
     "output_type": "display_data"
    }
   ],
   "source": [
    "df_service = df_part.groupby('Service Center')['Total Processing Time'].median()\n",
    "print(df_service.head())\n",
    "df_service.plot(kind='bar', title='The distribution of median processing time and service centers')"
   ]
  },
  {
   "cell_type": "markdown",
   "metadata": {},
   "source": [
    "### Conclusion"
   ]
  },
  {
   "cell_type": "markdown",
   "metadata": {},
   "source": [
    "Texas requires more time. In previous analysis I found that the number of approved applications more than Nebraska. "
   ]
  },
  {
   "cell_type": "code",
   "execution_count": 119,
   "metadata": {},
   "outputs": [
    {
     "data": {
      "text/plain": [
       "<matplotlib.axes._subplots.AxesSubplot at 0x1739f86db00>"
      ]
     },
     "execution_count": 119,
     "metadata": {},
     "output_type": "execute_result"
    },
    {
     "data": {
      "image/png": "[encoded data removed]",
      "text/plain": [
       "<Figure size 432x288 with 1 Axes>"
      ]
     },
     "metadata": {
      "needs_background": "light"
     },
     "output_type": "display_data"
    }
   ],
   "source": [
    "#nationality\n",
    "df_part['Nationality'].value_counts()\n",
    "ind = df_part[df_part['Nationality'] == 'United States'].index\n",
    "df_part.drop(ind, inplace=True)\n",
    "\n",
    "df_nationality = df_part.groupby('Nationality')['Total Processing Time'].median().sort_values(ascending=False)\n",
    "df_nationality.plot(kind='bar', title='The distribution of median processing time and nationality')"
   ]
  },
  {
   "cell_type": "markdown",
   "metadata": {},
   "source": [
    "### Conclusion"
   ]
  },
  {
   "cell_type": "markdown",
   "metadata": {},
   "source": [
    "There is not the uniform distribution. The most popular nationality is Thailand. This is the possibly factor impacted on the median processing time.  "
   ]
  },
  {
   "cell_type": "markdown",
   "metadata": {},
   "source": [
    "In this way I did a some analysis and found these factors. Further I guess to observe more years not only 2019. Ideally, it will be better if I have all the possible data of all cases processed. It would allow me to improve my model and do deep research. \n",
    "If applicants will use my model  I can be able to evaluate the count of successful cases later and understand how my model was precise."
   ]
  },
  {
   "cell_type": "code",
   "execution_count": null,
   "metadata": {},
   "outputs": [],
   "source": []
  }
 ],
 "metadata": {
  "kernelspec": {
   "display_name": "Python 3",
   "language": "python",
   "name": "python3"
  },
  "language_info": {
   "codemirror_mode": {
    "name": "ipython",
    "version": 3
   },
   "file_extension": ".py",
   "mimetype": "text/x-python",
   "name": "python",
   "nbconvert_exporter": "python",
   "pygments_lexer": "ipython3",
   "version": "3.7.1"
  }
 },
 "nbformat": 4,
 "nbformat_minor": 2
}
